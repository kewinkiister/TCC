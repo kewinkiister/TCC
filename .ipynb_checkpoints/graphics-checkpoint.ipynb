{
 "cells": [
  {
   "cell_type": "code",
   "execution_count": 1,
   "metadata": {},
   "outputs": [
    {
     "name": "stdout",
     "output_type": "stream",
     "text": [
      "   Num. de Lamb   Rel. D1/D2  3dB bandwidth  Dir Plan H dB  Side Lobe Level\n",
      "0            5.0         0.6           10.6      15.367240        13.992529\n",
      "1            7.0         0.6            7.6      17.158241        14.180748\n",
      "2            7.0         1.0            7.4      17.703168        13.813071\n",
      "3            7.0         1.4            7.2      17.712877        13.277933\n",
      "4            7.0         1.8            7.4      17.744345        13.416213\n",
      "5            7.0         2.0            7.4      17.780573        13.369704\n",
      "6           10.0         0.6            5.2      18.895075        14.403539\n"
     ]
    }
   ],
   "source": [
    "import pandas as pd\n",
    "import numpy as np\n",
    "import matplotlib.pyplot as plt\n",
    "import math\n",
    "\n",
    "df = pd.read_csv ('Dados_Kewin/ExportData.csv')\n",
    "print(df)"
   ]
  },
  {
   "cell_type": "code",
   "execution_count": null,
   "metadata": {},
   "outputs": [],
   "source": []
  }
 ],
 "metadata": {
  "kernelspec": {
   "display_name": "Python 3",
   "language": "python",
   "name": "python3"
  },
  "language_info": {
   "codemirror_mode": {
    "name": "ipython",
    "version": 3
   },
   "file_extension": ".py",
   "mimetype": "text/x-python",
   "name": "python",
   "nbconvert_exporter": "python",
   "pygments_lexer": "ipython3",
   "version": "3.7.3"
  }
 },
 "nbformat": 4,
 "nbformat_minor": 2
}
